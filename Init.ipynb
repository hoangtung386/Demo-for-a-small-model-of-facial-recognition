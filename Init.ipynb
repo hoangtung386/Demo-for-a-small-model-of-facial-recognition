{
 "cells": [
  {
   "cell_type": "markdown",
   "metadata": {
    "cell_id": "7194a5ad8a9743c9bb880020f4b0253d",
    "deepnote_cell_type": "markdown",
    "output_cleared": false,
    "tags": []
   },
   "source": [
    "## Sổ tay Khởi đầu\n",
    "Đây là sổ tay khởi đầu của bạn.\n",
    "\n",
    "**Điều này dùng để làm gì?**\n",
    "\n",
    "Bạn có thể  đặt mã tùy chỉnh bạn muốn chúng tôi chạy mỗi lần chúng tôi thiết lập môi trường của bạn ở đây.\n",
    "\n",
    "**Tuyệt vời! Có điều gì tôi không nên đặt ở đây không?**\n",
    "\n",
    "Vui lòng không cài đặt gói `jupyter` hoặc `jedi`, chúng sẽ làm hỏng môi trường Deepnote của bạn. Ngoài ra, không cần phải đặt `!pip install ` ở đây, chúng tôi đã lưu đó tự động!\n",
    "\n",
    "**Tôi muốn tìm hiểu thêm!**\n",
    "\n",
    "Tuyệt! Chỉ cần [truy cập tài liệu của chúng tôi](https://docs.deepnote.com/environment/custom-initialization)."
   ]
  },
  {
   "cell_type": "code",
   "execution_count": null,
   "metadata": {},
   "outputs": [],
   "source": [
    "%%bash\n",
    "# Nếu dự án của bạn có tệp 'requirements.txt', chúng tôi sẽ cài đặt nó ở đây ngoại trừ các gói được cấm mà gây ra xung đột với Deepnote (xem ở trên).\n",
    "if test -f requirements.txt\n",
    "then\n",
    "sed -i '/jedi/d;/jupyter/d;' ./requirements.txt\n",
    "pip install -r ./requirements.txt\n",
    "else echo \"Không có tệp requirements.txt, vì vậy không có gì để cài đặt. Điều này là trường hợp của hầu hết các dự án.\"\n",
    "fi"
   ]
  }
 ],
 "metadata": {
  "deepnote_execution_queue": [],
  "deepnote_notebook_id": "9b0f7935c537447a923278fdd9e11dcf",
  "kernelspec": {
   "display_name": "Python 3 (ipykernel)",
   "language": "python",
   "name": "python3"
  },
  "language_info": {
   "codemirror_mode": {
    "name": "ipython",
    "version": 3
   },
   "file_extension": ".py",
   "mimetype": "text/x-python",
   "name": "python",
   "nbconvert_exporter": "python",
   "pygments_lexer": "ipython3",
   "version": "3.12.2"
  }
 },
 "nbformat": 4,
 "nbformat_minor": 4
}
